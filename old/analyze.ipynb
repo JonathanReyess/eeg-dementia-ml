{
 "cells": [
  {
   "cell_type": "markdown",
   "metadata": {},
   "source": [
    "# Cognitive Decline Prediction Using EEG Data and Machine Learning"
   ]
  },
  {
   "cell_type": "markdown",
   "metadata": {},
   "source": [
    "## Imports"
   ]
  },
  {
   "cell_type": "code",
   "execution_count": 1,
   "metadata": {},
   "outputs": [],
   "source": [
    "import mne\n",
    "from bids import BIDSLayout\n",
    "import os\n",
    "import numpy as np\n",
    "import pandas as pd"
   ]
  },
  {
   "cell_type": "markdown",
   "metadata": {},
   "source": []
  },
  {
   "cell_type": "markdown",
   "metadata": {},
   "source": [
    "### Data Preprocessing\n",
    "\n",
    "The EEG recordings were exported in .eeg format and transformed to the BIDS-accepted .set format, with a preprocessing pipeline that included applying a Butterworth band-pass filter (0.5-45 Hz), re-referencing, and using Artifact Subspace Reconstruction (ASR) to remove bad data segments. Independent Component Analysis (ICA) was then performed to identify and reject components classified as eye or jaw artifacts, even though some eye movement artifacts remained in the resting state recordings."
   ]
  },
  {
   "cell_type": "code",
   "execution_count": 3,
   "metadata": {},
   "outputs": [],
   "source": [
    "data_path = \"data/derivatives\""
   ]
  },
  {
   "cell_type": "markdown",
   "metadata": {},
   "source": [
    "## Load Data\n",
    "\n",
    "Let's create a dataframe that includes both are participants.tsv data and EEG data."
   ]
  },
  {
   "cell_type": "code",
   "execution_count": 4,
   "metadata": {},
   "outputs": [],
   "source": [
    "# Function to load subject data\n",
    "def load_subject_data(subject_id):\n",
    "    subject_path = os.path.join(data_path, f\"sub-{subject_id:03d}\", \"eeg\", f\"sub-{subject_id:03d}_task-eyesclosed_eeg.set\")\n",
    "    # print(f\"Trying to load: {subject_path}\")  # Debugging line\n",
    "    raw = mne.io.read_raw_eeglab(subject_path, preload=True)  # Load the .set file\n",
    "    return raw"
   ]
  },
  {
   "cell_type": "code",
   "execution_count": 5,
   "metadata": {},
   "outputs": [
    {
     "data": {
      "text/plain": [
       "'def load_all_subjects(data_path, num_subjects=88):\\n    raw_data_list = []\\n    for subject_id in range(1, num_subjects + 1):\\n        try:\\n            raw = load_subject_data(subject_id)  # Load your EEG data here\\n            raw_data_list.append(raw)\\n            print(f\"Loaded data for subject {subject_id}\")\\n        except FileNotFoundError:\\n            print(f\"Data for subject {subject_id} not found.\")\\n    return raw_data_list'"
      ]
     },
     "execution_count": 5,
     "metadata": {},
     "output_type": "execute_result"
    }
   ],
   "source": [
    "'''def load_all_subjects(data_path, num_subjects=88):\n",
    "    raw_data_list = []\n",
    "    for subject_id in range(1, num_subjects + 1):\n",
    "        try:\n",
    "            raw = load_subject_data(subject_id)  # Load your EEG data here\n",
    "            raw_data_list.append(raw)\n",
    "            print(f\"Loaded data for subject {subject_id}\")\n",
    "        except FileNotFoundError:\n",
    "            print(f\"Data for subject {subject_id} not found.\")\n",
    "    return raw_data_list'''"
   ]
  },
  {
   "cell_type": "code",
   "execution_count": 6,
   "metadata": {},
   "outputs": [
    {
     "data": {
      "text/plain": [
       "'raw_data = load_subject_data(1)\\nif raw_data is not None:\\n    print(raw_data.info)  # Access the info attribute directly\\nelse:\\n    print(\"No data was loaded.\")\\n    \\nraw_data.plot(n_channels=10, scalings=\\'auto\\') # Test if data was loaded correctly'"
      ]
     },
     "execution_count": 6,
     "metadata": {},
     "output_type": "execute_result"
    }
   ],
   "source": [
    "'''raw_data = load_subject_data(1)\n",
    "if raw_data is not None:\n",
    "    print(raw_data.info)  # Access the info attribute directly\n",
    "else:\n",
    "    print(\"No data was loaded.\")\n",
    "    \n",
    "raw_data.plot(n_channels=10, scalings='auto') # Test if data was loaded correctly'''"
   ]
  },
  {
   "cell_type": "code",
   "execution_count": null,
   "metadata": {},
   "outputs": [],
   "source": [
    "# Load participant data\n",
    "participant_data_path = 'data/participants.tsv'\n",
    "participant_data = pd.read_csv(participant_data_path, sep='\\t')\n",
    "\n",
    "# Create a list to hold EEG data\n",
    "eeg_data_list = []\n",
    "\n",
    "# Load EEG data for each subject and store it in a list\n",
    "for subject_id in range(1, 89):  # Assuming 88 subjects\n",
    "    try:\n",
    "        raw = load_subject_data(subject_id)\n",
    "        eeg_data_list.append(raw)\n",
    "    except FileNotFoundError:\n",
    "        print(f\"Data for subject {subject_id} not found.\")\n",
    "\n",
    "# Create a DataFrame for EEG data\n",
    "eeg_df = pd.DataFrame({\n",
    "    'participant_id': [f'sub-{str(i).zfill(3)}' for i in range(1, 89)],\n",
    "    'eeg_data': eeg_data_list\n",
    "})\n",
    "\n",
    "# Check if all EEG data has been loaded\n",
    "print(f\"Loaded EEG data for {len(eeg_data_list)} subjects.\")\n",
    "\n",
    "# Merge EEG data with participant information\n",
    "combined_data = pd.merge(eeg_df, participant_data, on='participant_id')\n",
    "\n",
    "# Display summary of combined data instead of the entire DataFrame\n",
    "# For example, display the first few rows of participant information and EEG data shapes\n",
    "print(combined_data[['participant_id'] + list(participant_data.columns)])  # Adjust according to actual participant data columns\n",
    "\n",
    "# If you want to see the shape of the EEG data\n",
    "for index, row in combined_data.iterrows():\n",
    "    print(f\"{row['participant_id']} EEG data shape: {row['eeg_data'].get_data().shape}\")"
   ]
  },
  {
   "cell_type": "markdown",
   "metadata": {},
   "source": [
    "### Encoding Labels\n",
    "\n",
    "Encode the group labels into numerical format:\n",
    "Alzheimer's Disease (A) = 0\n",
    "Frontotemporal Dementia (F) = 1\n",
    "Healthy Control (C) = 2"
   ]
  },
  {
   "cell_type": "code",
   "execution_count": 8,
   "metadata": {},
   "outputs": [],
   "source": [
    "group_mapping = {'A': 0, 'F': 1, 'C': 2}\n",
    "combined_data['Group'] = combined_data['Group'].map(group_mapping)"
   ]
  },
  {
   "cell_type": "code",
   "execution_count": 9,
   "metadata": {},
   "outputs": [
    {
     "name": "stdout",
     "output_type": "stream",
     "text": [
      "Combined data saved to data/combined_eeg_participant_data.csv\n"
     ]
    }
   ],
   "source": [
    "# Save the combined data to a CSV file\n",
    "output_csv_path = 'data/combined_eeg_participant_data.csv'\n",
    "combined_data.to_csv(output_csv_path, index=False)\n",
    "\n",
    "print(f\"Combined data saved to {output_csv_path}\")"
   ]
  },
  {
   "cell_type": "markdown",
   "metadata": {},
   "source": [
    "## Define Feature Extraction Functions\n",
    "\n",
    "Let's define functions to extract relevant features from your EEG data."
   ]
  },
  {
   "cell_type": "markdown",
   "metadata": {},
   "source": [
    "### Bandpower Extraction \n",
    "\n",
    "Analyze how different frequency bands (delta, theta, alpha, beta, gamma) change across different brain regions (channels)."
   ]
  },
  {
   "cell_type": "code",
   "execution_count": 10,
   "metadata": {},
   "outputs": [],
   "source": [
    "def extract_bandpower(raw, freq_bands, n_fft=2048):\n",
    "    \"\"\"Extract bandpower features from EEG data.\"\"\"\n",
    "    # Compute the Power Spectral Density (PSD)\n",
    "    spectrum = raw.compute_psd(method='welch', n_fft=n_fft)\n",
    "    psd_data, freqs = spectrum.get_data(return_freqs=True)\n",
    "\n",
    "    bandpowers = {}\n",
    "    for band, (fmin, fmax) in freq_bands.items():\n",
    "        # Find the indices of frequencies within the specified band\n",
    "        band_idx = np.where((freqs >= fmin) & (freqs <= fmax))[0]\n",
    "        # Average the PSD values over the band\n",
    "        bandpower = np.mean(psd_data[:, band_idx], axis=1)  # Average across all frequencies in the band\n",
    "        bandpowers[band] = bandpower\n",
    "\n",
    "    return bandpowers\n"
   ]
  },
  {
   "cell_type": "markdown",
   "metadata": {},
   "source": [
    "### Set Indices of Frequencies and Initialize Feature Dictionary"
   ]
  },
  {
   "cell_type": "code",
   "execution_count": 11,
   "metadata": {},
   "outputs": [],
   "source": [
    "freq_bands = {\n",
    "    'delta': (0.5, 4),\n",
    "    'theta': (4, 8),\n",
    "    'alpha': (8, 13),\n",
    "    'beta': (12, 25),\n",
    "    'gamma': (25, 45)\n",
    "}\n",
    "\n",
    "# Create a list to hold the feature dictionaries\n",
    "features_list = []"
   ]
  },
  {
   "cell_type": "markdown",
   "metadata": {},
   "source": [
    "### Power Spectral Density (PSD)\n",
    "\n",
    "Using the Welch method is a technique for estimating the power of a signal's frequency components. It provides a way to analyze the distribution of power across different frequencies in a signal, making it useful for identifying dominant frequency components in various applications such as EEG analysis"
   ]
  },
  {
   "cell_type": "code",
   "execution_count": 12,
   "metadata": {},
   "outputs": [],
   "source": [
    "# Function to compute band power for different frequency bands per channel\n",
    "def compute_bandpower_per_channel(raw, freq_range):\n",
    "    # Compute the power spectral density using Welch's method\n",
    "    spectrum = raw.compute_psd(method=\"welch\")\n",
    "    # Retrieve the power spectral density data and corresponding frequencies\n",
    "    data, freqs = spectrum.get_data(return_freqs=True)\n",
    "\n",
    "    # Find indices of the frequency range\n",
    "    freq_indices = np.logical_and(freqs >= freq_range[0], freqs <= freq_range[1])\n",
    "    # Compute the average power in the desired frequency band for each channel\n",
    "    band_power = np.mean(data[:, freq_indices], axis=1)  # Average power for each channel\n",
    "    \n",
    "    return band_power"
   ]
  },
  {
   "cell_type": "markdown",
   "metadata": {},
   "source": [
    "### Connectivity Measures\n",
    "\n",
    "Connectivity measures are useful for assessing interactions between different EEG channels or brain regions. Correlation measures linear dependency between signals from different channels."
   ]
  },
  {
   "cell_type": "code",
   "execution_count": 13,
   "metadata": {},
   "outputs": [],
   "source": [
    "# Function to compute connectivity between EEG channels\n",
    "def compute_connectivity(raw):\n",
    "    \"\"\"\n",
    "    Computes the functional connectivity using correlation between channels.\n",
    "    \n",
    "    Parameters:\n",
    "        raw: MNE Raw object containing the EEG data.\n",
    "        \n",
    "    Returns:\n",
    "        Connectivity matrix (correlation coefficients).\n",
    "    \"\"\"\n",
    "    data = raw.get_data()  # Get all channels, shape (n_channels, n_samples)\n",
    "    connectivity_matrix = np.corrcoef(data)  # Calculate correlation coefficients\n",
    "    return connectivity_matrix"
   ]
  },
  {
   "cell_type": "markdown",
   "metadata": {},
   "source": [
    "###  Extract Features and Append to Feature Dictionary"
   ]
  },
  {
   "cell_type": "code",
   "execution_count": null,
   "metadata": {},
   "outputs": [],
   "source": [
    "features_list.clear() #Ensure we reset our feeatures_list\n",
    "# Iterate over the rows in combined_data\n",
    "for index, row in combined_data.iterrows():\n",
    "    raw = row['eeg_data']  # Get the raw EEG data\n",
    "    bandpower_results = {}\n",
    "\n",
    "    # Calculate band power for each frequency band for each channel\n",
    "    for band, freq_range in freq_bands.items():\n",
    "        bandpower_results[band] = compute_bandpower_per_channel(raw, freq_range)\n",
    "\n",
    "    # Create a feature dictionary\n",
    "    features = {\n",
    "        'participant_id': row['participant_id'],\n",
    "        'Gender': row['Gender'],\n",
    "        'Age': row['Age'],\n",
    "        'Group': row['Group'],\n",
    "        'MMSE': row['MMSE']\n",
    "    }\n",
    "\n",
    "    # Add bandpower features for each channel\n",
    "    for band, power in bandpower_results.items():\n",
    "        # Assuming you have 'n_channels' number of channels\n",
    "        for i, channel_power in enumerate(power):\n",
    "            features[f'bandpower_{band}_channel_{i+1}'] = channel_power  # +1 for human-readable indexing\n",
    "        features[f'average_bandpower_{band}'] = np.mean(power)\n",
    "\n",
    "    # Calculate and add connectivity features\n",
    "    connectivity_matrix = compute_connectivity(raw)\n",
    "    \n",
    "    # For simplicity, you can extract average connectivity or specific values\n",
    "    features['average_connectivity'] = np.mean(connectivity_matrix)  # Average connectivity across channels\n",
    "\n",
    "    # Example: Add specific channel correlations if desired\n",
    "    # features['connectivity_1_2'] = connectivity_matrix[0, 1]  # Correlation between channel 1 and channel 2\n",
    "\n",
    "    features_list.append(features)\n"
   ]
  },
  {
   "cell_type": "code",
   "execution_count": null,
   "metadata": {},
   "outputs": [],
   "source": [
    "# Create a new DataFrame for features\n",
    "features_df = pd.DataFrame(features_list)\n",
    "\n",
    "# Display the features DataFrame\n",
    "print(features_df.head())"
   ]
  },
  {
   "cell_type": "code",
   "execution_count": 16,
   "metadata": {},
   "outputs": [
    {
     "name": "stdout",
     "output_type": "stream",
     "text": [
      "Extracted features saved to extracted_features.csv\n"
     ]
    }
   ],
   "source": [
    "# Save features to a CSV file\n",
    "features_df.to_csv('data/extracted_features.csv', index=False)\n",
    "print(\"Extracted features saved to extracted_features.csv\")"
   ]
  },
  {
   "cell_type": "code",
   "execution_count": null,
   "metadata": {},
   "outputs": [],
   "source": []
  },
  {
   "cell_type": "code",
   "execution_count": null,
   "metadata": {},
   "outputs": [],
   "source": [
    "# Display descriptive statistics\n",
    "print(features_df.describe())"
   ]
  },
  {
   "cell_type": "markdown",
   "metadata": {},
   "source": [
    "## Data Visualization \n",
    "\n",
    "Visually compare the distribution of various bandpower features among different groups of participants using a correlation matrix. We will use the plot to determine which channel recordings and frequency types correlate with our patient groupings."
   ]
  },
  {
   "cell_type": "code",
   "execution_count": 18,
   "metadata": {},
   "outputs": [],
   "source": [
    "import seaborn as sns\n",
    "import matplotlib.pyplot as plt"
   ]
  },
  {
   "cell_type": "code",
   "execution_count": 19,
   "metadata": {},
   "outputs": [],
   "source": [
    "numeric_features_df = features_df.select_dtypes(include=[np.number])"
   ]
  },
  {
   "cell_type": "code",
   "execution_count": 20,
   "metadata": {},
   "outputs": [],
   "source": [
    "correlation_matrix = numeric_features_df.corr()\n",
    "\n",
    "correlation_matrix.to_csv('data/correlation_matrix_df.csv', index=False)"
   ]
  },
  {
   "cell_type": "code",
   "execution_count": null,
   "metadata": {},
   "outputs": [],
   "source": [
    "# Step 2: Extract correlations with \"Group\" and drop self-correlation\n",
    "group_correlation = correlation_matrix['Group'].drop('Group')  # Drop self-correlation\n",
    "\n",
    "group_correlation .to_csv('data/group_correlation _df.csv', index=False)\n",
    "# Step 3: Get absolute values of the correlations\n",
    "absolute_group_correlation = group_correlation.abs()\n",
    "\n",
    "# Step 4: Sort the absolute correlations in descending order\n",
    "sorted_group_correlation = absolute_group_correlation.sort_values(ascending=False)\n",
    "\n",
    "# Display the sorted correlations\n",
    "print(sorted_group_correlation[:21])"
   ]
  },
  {
   "cell_type": "code",
   "execution_count": null,
   "metadata": {},
   "outputs": [],
   "source": [
    "# Define the columns to drop (for both bandpower_gamma and bandpower_beta, plus Age and MMSE)\n",
    "columns_to_drop = ['Age', 'MMSE']\n",
    "\n",
    "# Drop the specified columns and rows from the correlation matrix\n",
    "filtered_corr_matrix = correlation_matrix.drop(columns=columns_to_drop)\n",
    "\n",
    "# Drop the same rows to keep the matrix symmetric\n",
    "filtered_corr_matrix = filtered_corr_matrix.drop(index=columns_to_drop)\n",
    "\n",
    "# Plot the filtered correlation matrix\n",
    "plt.figure(figsize=(75, 75))\n",
    "sns.heatmap(filtered_corr_matrix, annot=True, fmt=\".2f\", cmap='coolwarm', square=True)\n",
    "plt.title('Correlation Matrix of Features')\n",
    "plt.show()\n"
   ]
  },
  {
   "cell_type": "markdown",
   "metadata": {},
   "source": [
    "### We care about 'Group' correlation in our matrix"
   ]
  },
  {
   "cell_type": "code",
   "execution_count": null,
   "metadata": {},
   "outputs": [],
   "source": [
    "import pandas as pd\n",
    "import seaborn as sns\n",
    "import matplotlib.pyplot as plt\n",
    "\n",
    "# Assuming correlation_matrix is already defined\n",
    "# Define the columns to drop (for both bandpower_gamma and bandpower_beta, plus Age and MMSE)\n",
    "columns_to_drop = ['Age', 'MMSE', 'Group']\n",
    "\n",
    "# Drop the specified columns to create a filtered correlation matrix\n",
    "filtered_corr_matrix = correlation_matrix.drop(columns=columns_to_drop)\n",
    "\n",
    "# Select only the \"Group\" row from the filtered correlation matrix\n",
    "group_corr_matrix = filtered_corr_matrix.loc[['Group']]\n",
    "\n",
    "# Plot the correlation matrix for \"Group\" only\n",
    "plt.figure(figsize=(75, 50))  # Adjust the figure size as needed\n",
    "sns.heatmap(group_corr_matrix, annot=True, fmt=\".2f\", cmap='coolwarm', square=True, cbar=False)\n",
    "plt.title('Correlation of Features with Group')\n",
    "plt.show()\n"
   ]
  },
  {
   "cell_type": "markdown",
   "metadata": {},
   "source": [
    "## Relevant Feature Extraction\n",
    "\n",
    "This way, we will only train our model using the top features that provide the highest accuracy.\n",
    "\n",
    "According to the literature, AD patients exhibit changes in the RBP such as reduced alpha power and increased theta power."
   ]
  },
  {
   "cell_type": "code",
   "execution_count": null,
   "metadata": {},
   "outputs": [],
   "source": [
    "# Step 1: Extract the top 19 feature names, excluding MMSE\n",
    "top_features = sorted_group_correlation.index[:21].tolist()\n",
    "\n",
    "# Step 2: Remove MMSE if it's in the top features\n",
    "top_features = [feature for feature in top_features if feature != 'MMSE'] # We wonly want to use EEG\n",
    "\n",
    "# Step 3: Format the list to match your desired output\n",
    "feature_columns = [f\"{feature}\" for feature in top_features]\n",
    "\n",
    "# Print the feature columns in the desired format\n",
    "formatted_feature_columns = ',\\n    '.join(feature_columns)\n",
    "formatted_output = f\"feature_columns = [\\n    {formatted_feature_columns}\\n]\"\n",
    "\n",
    "print(formatted_output)\n"
   ]
  },
  {
   "cell_type": "markdown",
   "metadata": {},
   "source": [
    "## Split  dataset into training and testing subsets"
   ]
  },
  {
   "cell_type": "code",
   "execution_count": null,
   "metadata": {},
   "outputs": [],
   "source": [
    "from sklearn.model_selection import train_test_split\n",
    "\n",
    "# Select features and target variable\n",
    "X = features_df[feature_columns]  # Features with selected columns\n",
    "y = features_df['Group']           # Target variable (you can change this based on your analysis)\n",
    "\n",
    "# Split the dataset into training and testing sets\n",
    "X_train, X_test, y_train, y_test = train_test_split(X, y, test_size=0.2, random_state=42)\n",
    "\n",
    "# Optional: Print the shapes of the training and testing sets to confirm\n",
    "print(f\"X_train shape: {X_train.shape}, X_test shape: {X_test.shape}\")\n",
    "print(f\"y_train shape: {y_train.shape}, y_test shape: {y_test.shape}\")\n"
   ]
  },
  {
   "cell_type": "code",
   "execution_count": 26,
   "metadata": {},
   "outputs": [
    {
     "name": "stdout",
     "output_type": "stream",
     "text": [
      "Datasets saved to CSV files.\n"
     ]
    }
   ],
   "source": [
    "# Save training and testing feature sets\n",
    "X_train.to_csv(\"X_train.csv\", index=False)\n",
    "X_test.to_csv(\"X_test.csv\", index=False)\n",
    "\n",
    "# Save training and testing target sets\n",
    "y_train.to_csv(\"y_train.csv\", index=False)\n",
    "y_test.to_csv(\"y_test.csv\", index=False)\n",
    "\n",
    "print(\"Datasets saved to CSV files.\")\n"
   ]
  },
  {
   "cell_type": "markdown",
   "metadata": {},
   "source": [
    "### SMOTE (Synthetic Minority Over-sampling Technique)\n",
    "\n",
    "Used to generate synthetic samples for the minority class in a dataset. This helps to balance the class distribution, reducing bias in the model's predictions."
   ]
  },
  {
   "cell_type": "code",
   "execution_count": null,
   "metadata": {},
   "outputs": [],
   "source": [
    "# Check value counts before SMOTE\n",
    "print(\"Before SMOTE:\")\n",
    "print(y_train.value_counts())\n",
    "\n",
    "# Apply SMOTE to resample the training data\n",
    "from imblearn.over_sampling import SMOTE\n",
    "\n",
    "smote = SMOTE(random_state=42)\n",
    "X_train_resampled, y_train_resampled = smote.fit_resample(X_train, y_train)\n",
    "\n",
    "# Check value counts after SMOTE\n",
    "print(\"\\nAfter SMOTE:\")\n",
    "print(y_train_resampled.value_counts())\n"
   ]
  },
  {
   "cell_type": "markdown",
   "metadata": {},
   "source": [
    "## XGBoost Model Training and Evaluation\n",
    "\n",
    "This section demonstrates how to train an XGBoost classifier using the resampled training dataset. The model is fitted on the training data, predictions are made on the test set, and the accuracy of the model is evaluated using the accuracy score metric."
   ]
  },
  {
   "cell_type": "code",
   "execution_count": null,
   "metadata": {},
   "outputs": [
    {
     "name": "stdout",
     "output_type": "stream",
     "text": [
      "XGBoost model accuracy: 0.61\n"
     ]
    }
   ],
   "source": [
    "from xgboost import XGBClassifier\n",
    "from sklearn.metrics import accuracy_score\n",
    "\n",
    "# Initialize the XGBoost model with hyperparameters\n",
    "xgb_model = XGBClassifier(\n",
    "    learning_rate=0.1,    # Step size for each boosting step\n",
    "    max_depth=3,          # Maximum depth of a tree\n",
    "    n_estimators=100,     # Number of boosting rounds (trees)\n",
    "    random_state=42,\n",
    "    objective='multiclass:softmax'  # Assuming binary classification; adjust for multiclass if needed\n",
    ")\n",
    "\n",
    "xgb_model.fit(X_train, y_train)\n",
    "\n",
    "# Make predictions on the test set\n",
    "y_pred = xgb_model.predict(X_test)\n",
    "\n",
    "# Evaluate the XGBoost model\n",
    "accuracy = accuracy_score(y_test, y_pred)\n",
    "print(f\"XGBoost model accuracy: {accuracy:.2f}\")\n"
   ]
  },
  {
   "cell_type": "markdown",
   "metadata": {},
   "source": [
    "### Confusion Matrix\n",
    "\n",
    " This will show the count of true positives, false positives, true negatives, and false negatives for each class, giving insight into how well each class is being predicted."
   ]
  },
  {
   "cell_type": "code",
   "execution_count": 161,
   "metadata": {},
   "outputs": [
    {
     "data": {
      "text/plain": [
       "<sklearn.metrics._plot.confusion_matrix.ConfusionMatrixDisplay at 0x320f03740>"
      ]
     },
     "execution_count": 161,
     "metadata": {},
     "output_type": "execute_result"
    },
    {
     "data": {
      "image/png": "[encoded data removed]",
      "text/plain": [
       "<Figure size 640x480 with 2 Axes>"
      ]
     },
     "metadata": {},
     "output_type": "display_data"
    }
   ],
   "source": [
    "from sklearn.metrics import confusion_matrix, ConfusionMatrixDisplay\n",
    "cm = confusion_matrix(y_test, y_pred)\n",
    "disp = ConfusionMatrixDisplay(confusion_matrix=cm)\n",
    "disp.plot()\n"
   ]
  },
  {
   "cell_type": "markdown",
   "metadata": {},
   "source": [
    "### Classification Report"
   ]
  },
  {
   "cell_type": "code",
   "execution_count": null,
   "metadata": {},
   "outputs": [],
   "source": [
    "from sklearn.metrics import classification_report\n",
    "\n",
    "print(classification_report(y_test, y_pred))"
   ]
  },
  {
   "cell_type": "markdown",
   "metadata": {},
   "source": [
    "### ROC AUC Score\n",
    "\n",
    "Measures the model's ability to distinguish between classes."
   ]
  },
  {
   "cell_type": "code",
   "execution_count": 45,
   "metadata": {},
   "outputs": [
    {
     "name": "stdout",
     "output_type": "stream",
     "text": [
      "ROC AUC Score: 0.71\n"
     ]
    }
   ],
   "source": [
    "from sklearn.metrics import roc_auc_score\n",
    "y_pred_proba = xgb_model.predict_proba(X_test)\n",
    "roc_auc = roc_auc_score(y_test, y_pred_proba, multi_class='ovr')\n",
    "print(f\"ROC AUC Score: {roc_auc:.2f}\")\n"
   ]
  },
  {
   "cell_type": "markdown",
   "metadata": {},
   "source": [
    "### Cross-Validation"
   ]
  },
  {
   "cell_type": "code",
   "execution_count": null,
   "metadata": {},
   "outputs": [],
   "source": [
    "from sklearn.model_selection import cross_val_score\n",
    "cv_scores = cross_val_score(xgb_model, X_train_resampled, y_train_resampled, cv=20)\n",
    "print(f\"Cross-validation scores: {cv_scores}\")\n",
    "print(f\"Mean CV accuracy: {cv_scores.mean():.2f}\")\n"
   ]
  },
  {
   "cell_type": "markdown",
   "metadata": {},
   "source": [
    "### Feature Importance"
   ]
  },
  {
   "cell_type": "code",
   "execution_count": null,
   "metadata": {},
   "outputs": [],
   "source": [
    "import matplotlib.pyplot as plt\n",
    "importances = xgb_model.feature_importances_\n",
    "plt.barh(X_train_resampled.columns, importances)\n",
    "plt.title('Feature Importances')\n",
    "plt.show()\n"
   ]
  },
  {
   "cell_type": "markdown",
   "metadata": {},
   "source": [
    "### Precision-Recall Curve"
   ]
  },
  {
   "cell_type": "code",
   "execution_count": 173,
   "metadata": {},
   "outputs": [
    {
     "data": {
      "image/png": "[encoded data removed]",
      "text/plain": [
       "<Figure size 640x480 with 1 Axes>"
      ]
     },
     "metadata": {},
     "output_type": "display_data"
    }
   ],
   "source": [
    "from sklearn.metrics import precision_recall_curve\n",
    "from sklearn.preprocessing import label_binarize\n",
    "y_test_bin = label_binarize(y_test, classes=[0, 1, 2])\n",
    "y_score = xgb_model.predict_proba(X_test)\n",
    "for i in range(len(y_score[0])):\n",
    "    precision, recall, _ = precision_recall_curve(y_test_bin[:, i], y_score[:, i])\n",
    "    plt.plot(recall, precision, lw=2, label=f'Class {i}')\n",
    "plt.xlabel(\"Recall\")\n",
    "plt.ylabel(\"Precision\")\n",
    "plt.legend()\n",
    "plt.title(\"Precision-Recall Curve\")\n",
    "plt.show()\n"
   ]
  },
  {
   "cell_type": "markdown",
   "metadata": {},
   "source": [
    "## Hyperparameter Tuning"
   ]
  },
  {
   "cell_type": "code",
   "execution_count": 46,
   "metadata": {},
   "outputs": [
    {
     "name": "stdout",
     "output_type": "stream",
     "text": [
      "Fitting 20 folds for each of 20 candidates, totalling 400 fits\n",
      "Best parameters found:  {'subsample': 0.6, 'n_estimators': 200, 'max_depth': 3, 'learning_rate': 0.01, 'colsample_bytree': 0.6}\n",
      "Best F1 score found:  0.68225\n"
     ]
    }
   ],
   "source": [
    "from sklearn.model_selection import RandomizedSearchCV\n",
    "from xgboost import XGBClassifier\n",
    "from sklearn.metrics import accuracy_score, precision_score, recall_score, f1_score, classification_report\n",
    "\n",
    "# Define the model\n",
    "xgb_model = XGBClassifier(random_state=42)\n",
    "\n",
    "# Define the parameter grid\n",
    "param_grid = {\n",
    "    'n_estimators': [50, 100, 200],\n",
    "    'learning_rate': [0.01, 0.1, 0.2],\n",
    "    'max_depth': [3, 5, 7],\n",
    "    'subsample': [0.6, 0.8, 1.0],\n",
    "    'colsample_bytree': [0.6, 0.8, 1.0]\n",
    "}\n",
    "\n",
    "# Set up the RandomizedSearchCV\n",
    "random_search = RandomizedSearchCV(\n",
    "    estimator=xgb_model,\n",
    "    param_distributions=param_grid,\n",
    "    n_iter=20,  # Number of random combinations to try\n",
    "    scoring='f1_weighted',  # Scoring metric, can be 'accuracy', 'precision', etc.\n",
    "    cv=20,  # Number of cross-validation folds\n",
    "    random_state=42,\n",
    "    verbose=1,\n",
    "    n_jobs=-1  # Use all available cores\n",
    ")\n",
    "\n",
    "# Fit the RandomizedSearchCV to the training data\n",
    "random_search.fit(X_train_resampled, y_train_resampled) #Avoid overfitting by not training it on the whole data set \n",
    "\n",
    "# Get the best parameters and score\n",
    "print(\"Best parameters found: \", random_search.best_params_)\n",
    "print(\"Best F1 score found: \", random_search.best_score_)"
   ]
  },
  {
   "cell_type": "code",
   "execution_count": 47,
   "metadata": {},
   "outputs": [
    {
     "name": "stdout",
     "output_type": "stream",
     "text": [
      "Accuracy: 0.50\n",
      "Precision: 0.51\n",
      "Recall: 0.50\n",
      "F1 Score: 0.47\n"
     ]
    }
   ],
   "source": [
    "# Train a new model with the best parameters\n",
    "best_xgb_model = random_search.best_estimator_\n",
    "\n",
    "# Make predictions on the test set\n",
    "y_pred = best_xgb_model.predict(X_test)\n",
    "\n",
    "# Evaluate the model\n",
    "accuracy = accuracy_score(y_test, y_pred)\n",
    "precision = precision_score(y_test, y_pred, average='weighted')\n",
    "recall = recall_score(y_test, y_pred, average='weighted')\n",
    "f1 = f1_score(y_test, y_pred, average='weighted')\n",
    "\n",
    "print(f\"Accuracy: {accuracy:.2f}\")\n",
    "print(f\"Precision: {precision:.2f}\")\n",
    "print(f\"Recall: {recall:.2f}\")\n",
    "print(f\"F1 Score: {f1:.2f}\")\n"
   ]
  },
  {
   "cell_type": "code",
   "execution_count": 215,
   "metadata": {},
   "outputs": [
    {
     "name": "stdout",
     "output_type": "stream",
     "text": [
      "\n",
      "Classification Report:\n",
      "              precision    recall  f1-score   support\n",
      "\n",
      "           0       0.56      0.62      0.59         8\n",
      "           1       0.50      0.25      0.33         8\n",
      "           2       0.40      1.00      0.57         2\n",
      "\n",
      "    accuracy                           0.50        18\n",
      "   macro avg       0.49      0.62      0.50        18\n",
      "weighted avg       0.51      0.50      0.47        18\n",
      "\n"
     ]
    }
   ],
   "source": [
    "# Detailed classification report\n",
    "print(\"\\nClassification Report:\")\n",
    "print(classification_report(y_test, y_pred))"
   ]
  },
  {
   "cell_type": "markdown",
   "metadata": {},
   "source": [
    "## Conclusion\n",
    "\n",
    "We can conclude from our hyperparameter tuning that despite potentially achieving higher F1 scores, this would lead to overfitting as our model's performance on the test data remains poor. \n",
    "\n",
    "If we perform cross-validation accross our original data set, we get an average CV score of 65%. \n",
    "\n",
    "Our model is able to determine whether or not our subject is healthy or not, but struggles when determining whether they have AD or Dementia."
   ]
  }
 ],
 "metadata": {
  "kernelspec": {
   "display_name": "eeg_analysis",
   "language": "python",
   "name": "python3"
  },
  "language_info": {
   "codemirror_mode": {
    "name": "ipython",
    "version": 3
   },
   "file_extension": ".py",
   "mimetype": "text/x-python",
   "name": "python",
   "nbconvert_exporter": "python",
   "pygments_lexer": "ipython3",
   "version": "3.12.2"
  }
 },
 "nbformat": 4,
 "nbformat_minor": 2
}
